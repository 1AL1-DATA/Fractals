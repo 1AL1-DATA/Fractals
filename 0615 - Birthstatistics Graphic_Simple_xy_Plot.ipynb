{
 "cells": [
  {
   "cell_type": "code",
   "execution_count": 33,
   "id": "06d52a9a-9b79-40d7-a20f-2abb3d054fc3",
   "metadata": {},
   "outputs": [],
   "source": [
    "#Import libraries as always \n",
    "\n",
    "import numpy as np\n",
    "import matplotlib as pt\n",
    "\n",
    "#Creating x and y plot input variables from our lookup functions\n",
    "xs = []\n",
    "ys = []\n",
    "#Females Example Variables\n",
    "#name = 'Anna'\n",
    "#gender = 'F'\n",
    "#state = 'CA'\n",
    "#Variables to add to the if function ##Data_Lookup variables\n",
    "name = 'Carlos'\n",
    "gender = 'M'\n",
    "state = 'CA'\n",
    "\n",
    "#Opens file path ##In this case Birth Stats\n",
    "with open(\"C:/Users/30694/Desktop/New folder/Cheatsheat/Python/CourseMaterial/data/names.csv\", 'r') as file:\n",
    "    counter = 0\n",
    "    for line in file: \n",
    "        counter = counter + 1\n",
    "        line_split = line.strip().split(',')\n",
    "        if line_split[1] == name and line_split[3] == gender and line_split[4] == state:\n",
    "\n",
    "            xs.append(int(line_split[2]))\n",
    "            ys.append(int(line_split[5]))\n",
    "            \n",
    "#Make a simple plot with XS and YS data\n",
    "plt.plot(xs,ys)\n",
    "plt.show()"
   ]
  },
  {
   "cell_type": "code",
   "execution_count": null,
   "id": "e9cd8d8e-90c1-4451-a45b-69388d090a7f",
   "metadata": {},
   "outputs": [],
   "source": []
  }
 ],
 "metadata": {
  "kernelspec": {
   "display_name": "Python [conda env:base] *",
   "language": "python",
   "name": "conda-base-py"
  },
  "language_info": {
   "codemirror_mode": {
    "name": "ipython",
    "version": 3
   },
   "file_extension": ".py",
   "mimetype": "text/x-python",
   "name": "python",
   "nbconvert_exporter": "python",
   "pygments_lexer": "ipython3",
   "version": "3.12.7"
  }
 },
 "nbformat": 4,
 "nbformat_minor": 5
}
